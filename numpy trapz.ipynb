{
 "cells": [
  {
   "cell_type": "code",
   "execution_count": 1,
   "id": "79e0539b",
   "metadata": {},
   "outputs": [],
   "source": [
    "import numpy as np\n",
    "import matplotlib.pyplot as plt\n",
    "import scipy.integrate as integrate"
   ]
  },
  {
   "cell_type": "code",
   "execution_count": 2,
   "id": "1cb3d47d",
   "metadata": {},
   "outputs": [],
   "source": [
    "#plt.plot?\n"
   ]
  },
  {
   "cell_type": "markdown",
   "id": "126c0299",
   "metadata": {},
   "source": [
    "# Integration mit numpy.trapz\n",
    "\n",
    "### 16.11.2022 Notiz"
   ]
  },
  {
   "cell_type": "code",
   "execution_count": 3,
   "id": "48a0e06f",
   "metadata": {},
   "outputs": [],
   "source": [
    "def cos(x,n,L):\n",
    "    return np.cos(n*np.pi/L*x)\n",
    "def sin(x,n,L):\n",
    "    return np.sin(n*np.pi/L*x)"
   ]
  },
  {
   "cell_type": "code",
   "execution_count": 4,
   "id": "7d9a46be",
   "metadata": {},
   "outputs": [],
   "source": [
    "def f(x):\n",
    "    return x**2-x**4"
   ]
  },
  {
   "cell_type": "code",
   "execution_count": 5,
   "id": "8bd1c2df",
   "metadata": {},
   "outputs": [
    {
     "data": {
      "text/plain": [
       "4.440892098500626e-15"
      ]
     },
     "execution_count": 5,
     "metadata": {},
     "output_type": "execute_result"
    },
    {
     "data": {
      "image/png": "[encoded data removed]",
      "text/plain": [
       "<Figure size 432x288 with 1 Axes>"
      ]
     },
     "metadata": {
      "needs_background": "light"
     },
     "output_type": "display_data"
    }
   ],
   "source": [
    "L = 1.\n",
    "x = np.linspace(-1,1,201)\n",
    "n = 1\n",
    "plt.plot(x,cos(x,n,L))\n",
    "plt.plot(x,sin(x,n,L))\n",
    "np.trapz(cos(x,n,L))\n"
   ]
  },
  {
   "cell_type": "code",
   "execution_count": 6,
   "id": "b9fad1d2",
   "metadata": {},
   "outputs": [
    {
     "ename": "TypeError",
     "evalue": "cos() missing 2 required positional arguments: 'n' and 'L'",
     "output_type": "error",
     "traceback": [
      "\u001b[1;31m---------------------------------------------------------------------------\u001b[0m",
      "\u001b[1;31mTypeError\u001b[0m                                 Traceback (most recent call last)",
      "Input \u001b[1;32mIn [6]\u001b[0m, in \u001b[0;36m<cell line: 1>\u001b[1;34m()\u001b[0m\n\u001b[1;32m----> 1\u001b[0m \u001b[43mintegrate\u001b[49m\u001b[38;5;241;43m.\u001b[39;49m\u001b[43mquad\u001b[49m\u001b[43m(\u001b[49m\u001b[43mcos\u001b[49m\u001b[43m,\u001b[49m\u001b[38;5;241;43m-\u001b[39;49m\u001b[43mL\u001b[49m\u001b[43m,\u001b[49m\u001b[43mL\u001b[49m\u001b[43m)\u001b[49m\n",
      "File \u001b[1;32mD:\\anaconda\\lib\\site-packages\\scipy\\integrate\\quadpack.py:351\u001b[0m, in \u001b[0;36mquad\u001b[1;34m(func, a, b, args, full_output, epsabs, epsrel, limit, points, weight, wvar, wopts, maxp1, limlst)\u001b[0m\n\u001b[0;32m    348\u001b[0m flip, a, b \u001b[38;5;241m=\u001b[39m b \u001b[38;5;241m<\u001b[39m a, \u001b[38;5;28mmin\u001b[39m(a, b), \u001b[38;5;28mmax\u001b[39m(a, b)\n\u001b[0;32m    350\u001b[0m \u001b[38;5;28;01mif\u001b[39;00m weight \u001b[38;5;129;01mis\u001b[39;00m \u001b[38;5;28;01mNone\u001b[39;00m:\n\u001b[1;32m--> 351\u001b[0m     retval \u001b[38;5;241m=\u001b[39m \u001b[43m_quad\u001b[49m\u001b[43m(\u001b[49m\u001b[43mfunc\u001b[49m\u001b[43m,\u001b[49m\u001b[43m \u001b[49m\u001b[43ma\u001b[49m\u001b[43m,\u001b[49m\u001b[43m \u001b[49m\u001b[43mb\u001b[49m\u001b[43m,\u001b[49m\u001b[43m \u001b[49m\u001b[43margs\u001b[49m\u001b[43m,\u001b[49m\u001b[43m \u001b[49m\u001b[43mfull_output\u001b[49m\u001b[43m,\u001b[49m\u001b[43m \u001b[49m\u001b[43mepsabs\u001b[49m\u001b[43m,\u001b[49m\u001b[43m \u001b[49m\u001b[43mepsrel\u001b[49m\u001b[43m,\u001b[49m\u001b[43m \u001b[49m\u001b[43mlimit\u001b[49m\u001b[43m,\u001b[49m\n\u001b[0;32m    352\u001b[0m \u001b[43m                   \u001b[49m\u001b[43mpoints\u001b[49m\u001b[43m)\u001b[49m\n\u001b[0;32m    353\u001b[0m \u001b[38;5;28;01melse\u001b[39;00m:\n\u001b[0;32m    354\u001b[0m     \u001b[38;5;28;01mif\u001b[39;00m points \u001b[38;5;129;01mis\u001b[39;00m \u001b[38;5;129;01mnot\u001b[39;00m \u001b[38;5;28;01mNone\u001b[39;00m:\n",
      "File \u001b[1;32mD:\\anaconda\\lib\\site-packages\\scipy\\integrate\\quadpack.py:463\u001b[0m, in \u001b[0;36m_quad\u001b[1;34m(func, a, b, args, full_output, epsabs, epsrel, limit, points)\u001b[0m\n\u001b[0;32m    461\u001b[0m \u001b[38;5;28;01mif\u001b[39;00m points \u001b[38;5;129;01mis\u001b[39;00m \u001b[38;5;28;01mNone\u001b[39;00m:\n\u001b[0;32m    462\u001b[0m     \u001b[38;5;28;01mif\u001b[39;00m infbounds \u001b[38;5;241m==\u001b[39m \u001b[38;5;241m0\u001b[39m:\n\u001b[1;32m--> 463\u001b[0m         \u001b[38;5;28;01mreturn\u001b[39;00m \u001b[43m_quadpack\u001b[49m\u001b[38;5;241;43m.\u001b[39;49m\u001b[43m_qagse\u001b[49m\u001b[43m(\u001b[49m\u001b[43mfunc\u001b[49m\u001b[43m,\u001b[49m\u001b[43ma\u001b[49m\u001b[43m,\u001b[49m\u001b[43mb\u001b[49m\u001b[43m,\u001b[49m\u001b[43margs\u001b[49m\u001b[43m,\u001b[49m\u001b[43mfull_output\u001b[49m\u001b[43m,\u001b[49m\u001b[43mepsabs\u001b[49m\u001b[43m,\u001b[49m\u001b[43mepsrel\u001b[49m\u001b[43m,\u001b[49m\u001b[43mlimit\u001b[49m\u001b[43m)\u001b[49m\n\u001b[0;32m    464\u001b[0m     \u001b[38;5;28;01melse\u001b[39;00m:\n\u001b[0;32m    465\u001b[0m         \u001b[38;5;28;01mreturn\u001b[39;00m _quadpack\u001b[38;5;241m.\u001b[39m_qagie(func,bound,infbounds,args,full_output,epsabs,epsrel,limit)\n",
      "\u001b[1;31mTypeError\u001b[0m: cos() missing 2 required positional arguments: 'n' and 'L'"
     ]
    }
   ],
   "source": [
    "integrate.quad(cos,-L,L) # n=1 L=1 bitte oben korrigieren !"
   ]
  },
  {
   "cell_type": "markdown",
   "id": "3f700fad",
   "metadata": {},
   "source": [
    "#### Datum 23.11.2022 Mittwoch"
   ]
  },
  {
   "cell_type": "code",
   "execution_count": null,
   "id": "d6089c2a",
   "metadata": {},
   "outputs": [],
   "source": [
    "L = 1\n",
    "n = 2\n",
    "m = 2\n",
    "x = np.linspace(-1,1,20001)\n",
    "plt.plot(x,cos(x,n,L)*cos(x,m,L))"
   ]
  },
  {
   "cell_type": "code",
   "execution_count": null,
   "id": "61e11e71",
   "metadata": {},
   "outputs": [],
   "source": [
    "L = 1\n",
    "c = [np.trapz(cos(x,i,L)*f(x),dx = 0.01) for i in np.arange(11)]\n",
    "s = [np.trapz(sin(x,i,L)*f(x),dx = 0.01) for i in np.arange(11)]\n",
    "y_cos = np.array([c[i]*cos(x,i,L) for i in np.arange(11)])\n"
   ]
  },
  {
   "cell_type": "code",
   "execution_count": null,
   "id": "5f50d4a8",
   "metadata": {
    "scrolled": true
   },
   "outputs": [],
   "source": [
    "x\n"
   ]
  },
  {
   "cell_type": "code",
   "execution_count": null,
   "id": "dca52465",
   "metadata": {},
   "outputs": [],
   "source": [
    "np.sum(y_cos)"
   ]
  },
  {
   "cell_type": "markdown",
   "id": "0d50dd10",
   "metadata": {},
   "source": [
    "##### List"
   ]
  },
  {
   "cell_type": "code",
   "execution_count": null,
   "id": "da2a1b5f",
   "metadata": {},
   "outputs": [],
   "source": [
    "[i**2 for i in np.arange (11)]"
   ]
  },
  {
   "cell_type": "markdown",
   "id": "c540ec9a",
   "metadata": {},
   "source": [
    "#### ---------------------------------"
   ]
  },
  {
   "cell_type": "code",
   "execution_count": null,
   "id": "dfd18e09",
   "metadata": {},
   "outputs": [],
   "source": [
    "%matplotlib notebook\n",
    "fig, ax = plt.subplots()\n",
    "#\n",
    "for i in np.arange(11):\n",
    "    ax.plot(y_cos[i])\n"
   ]
  },
  {
   "cell_type": "code",
   "execution_count": null,
   "id": "f9cb42eb",
   "metadata": {},
   "outputs": [],
   "source": [
    "%matplotlib notebook\n",
    "fig, ax = plt.subplots()\n",
    "#\n",
    "for i in np.arange(11):\n",
    "    ax.plot(np.sum(y_cos,axis=0))"
   ]
  },
  {
   "cell_type": "code",
   "execution_count": null,
   "id": "eb598ca8",
   "metadata": {},
   "outputs": [],
   "source": [
    "%matplotlib notebook\n",
    "fig, (ax1,ax2) = plt.subplots(2,1)\n",
    "#\n",
    "for i in np.arange(11):\n",
    "    ax1.plot(y_cos[i])\n",
    "    ax2.plot(np.sum(y_cos,axis=0))"
   ]
  },
  {
   "cell_type": "code",
   "execution_count": null,
   "id": "065cdc31",
   "metadata": {},
   "outputs": [],
   "source": [
    "c[1]*cos(x,0,L)"
   ]
  },
  {
   "cell_type": "code",
   "execution_count": null,
   "id": "63e9cfd4",
   "metadata": {},
   "outputs": [],
   "source": [
    "len(y_cos)\n",
    "y_cos.shape\n"
   ]
  },
  {
   "cell_type": "code",
   "execution_count": null,
   "id": "453bf377",
   "metadata": {},
   "outputs": [],
   "source": [
    "np.sum(y_cos,axis = 0).shape"
   ]
  },
  {
   "cell_type": "code",
   "execution_count": null,
   "id": "0e8c1a4f",
   "metadata": {},
   "outputs": [],
   "source": [
    "y_cos"
   ]
  },
  {
   "cell_type": "markdown",
   "id": "beb1cd6d",
   "metadata": {},
   "source": [
    "#### BEISPIEL A"
   ]
  },
  {
   "cell_type": "code",
   "execution_count": null,
   "id": "3e6c6970",
   "metadata": {},
   "outputs": [],
   "source": [
    "a = np.arange(1,101)\n",
    "a = a.reshape((10,10))"
   ]
  },
  {
   "cell_type": "code",
   "execution_count": null,
   "id": "552b27d6",
   "metadata": {},
   "outputs": [],
   "source": [
    "a"
   ]
  },
  {
   "cell_type": "code",
   "execution_count": null,
   "id": "5fda6321",
   "metadata": {},
   "outputs": [],
   "source": [
    "np.sum(a) #ohne Angabe von Achse"
   ]
  },
  {
   "cell_type": "code",
   "execution_count": null,
   "id": "a0df6766",
   "metadata": {},
   "outputs": [],
   "source": [
    "np.sum(a,axis = 1) # mit eingabe von x-achse also in dem Fall y=0"
   ]
  },
  {
   "cell_type": "code",
   "execution_count": null,
   "id": "70ca6bb1",
   "metadata": {},
   "outputs": [],
   "source": [
    "np.sum(y_cos, axis = 0 )"
   ]
  },
  {
   "cell_type": "code",
   "execution_count": null,
   "id": "e998ba6a",
   "metadata": {},
   "outputs": [],
   "source": []
  }
 ],
 "metadata": {
  "kernelspec": {
   "display_name": "Python 3 (ipykernel)",
   "language": "python",
   "name": "python3"
  },
  "language_info": {
   "codemirror_mode": {
    "name": "ipython",
    "version": 3
   },
   "file_extension": ".py",
   "mimetype": "text/x-python",
   "name": "python",
   "nbconvert_exporter": "python",
   "pygments_lexer": "ipython3",
   "version": "3.9.12"
  }
 },
 "nbformat": 4,
 "nbformat_minor": 5
}
