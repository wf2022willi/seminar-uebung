{
 "cells": [
  {
   "cell_type": "code",
   "execution_count": 2,
   "id": "0988f831",
   "metadata": {},
   "outputs": [],
   "source": [
    "import numpy as np\n",
    "import matplotlib.pyplot as plt\n"
   ]
  },
  {
   "cell_type": "code",
   "execution_count": 4,
   "id": "bab6318d",
   "metadata": {},
   "outputs": [],
   "source": [
    "w = 1.0\n",
    "a = 1.0\n",
    "i_0 = 0.0\n",
    "t0 = 0.0\n",
    "t1 = 1000.0\n",
    "n = 5000.0\n",
    "dt = (t1-t0)/n\n",
    "\n"
   ]
  },
  {
   "cell_type": "code",
   "execution_count": null,
   "id": "445c91f9",
   "metadata": {},
   "outputs": [],
   "source": []
  }
 ],
 "metadata": {
  "kernelspec": {
   "display_name": "Python 3 (ipykernel)",
   "language": "python",
   "name": "python3"
  },
  "language_info": {
   "codemirror_mode": {
    "name": "ipython",
    "version": 3
   },
   "file_extension": ".py",
   "mimetype": "text/x-python",
   "name": "python",
   "nbconvert_exporter": "python",
   "pygments_lexer": "ipython3",
   "version": "3.10.4"
  }
 },
 "nbformat": 4,
 "nbformat_minor": 5
}
