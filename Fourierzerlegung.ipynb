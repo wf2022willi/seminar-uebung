{
 "cells": [
  {
   "cell_type": "markdown",
   "id": "31bfc5a3",
   "metadata": {},
   "source": [
    "# Die Fourierzerlegung"
   ]
  },
  {
   "cell_type": "code",
   "execution_count": null,
   "id": "c0d9ccd4",
   "metadata": {},
   "outputs": [],
   "source": [
    "import numpy as np\n",
    "import matplotlib.pyplot as plt\n",
    "import scipy.integrate as integr"
   ]
  },
  {
   "cell_type": "markdown",
   "id": "fc577e90",
   "metadata": {},
   "source": [
    "# Defintionen\n",
    "Hier definieren wir uns Sinus- und Kosinusfunktionen, die in das Intervall $[-\\frac{L}{2},\\frac{L}{2}]$> reinpassen"
   ]
  },
  {
   "cell_type": "code",
   "execution_count": null,
   "id": "7e7c046f",
   "metadata": {},
   "outputs": [],
   "source": [
    "#Definition von Funktionen\n",
    "def cos(x,n=1,L=1):\n",
    "    return np.cos(n*2.*np.pi/L*x)\n",
    "def sin(x,n=1,L=1):\n",
    "    return np.sin(n*2*np.pi/L*x)"
   ]
  },
  {
   "cell_type": "markdown",
   "id": "ea96caea",
   "metadata": {},
   "source": [
    "Dann stellen wir einige dieser Funktionen graphisch dar:"
   ]
  },
  {
   "cell_type": "code",
   "execution_count": null,
   "id": "1fd35dba",
   "metadata": {},
   "outputs": [],
   "source": [
    "%matplotlib notebook\n",
    "fig = plt.figure()\n",
    "ax1 = fig.add_subplot(1,2,1, adjustable='box', aspect=0.5)\n",
    "ax2 = fig.add_subplot(1,2,2, adjustable='box', aspect=0.5)\n",
    "#fig, (ax1,ax2) = plt.subplots(1,2)\n",
    "x = np.linspace(-.5,.5,201)\n",
    "#\n",
    "ax1.set_title('Cosinus')\n",
    "ax2.set_title('Sinus')\n",
    "for n in np.arange(3):\n",
    "    ax1.plot(x, cos(x,n,1))\n",
    "    ax2.plot(x, sin(x,n,1))"
   ]
  },
  {
   "cell_type": "markdown",
   "id": "d5a20a38",
   "metadata": {},
   "source": [
    "# Testfunktionen\n",
    "Wir definieren Testfunktionen, die wir in eine Fourierreihe zerlegen."
   ]
  },
  {
   "cell_type": "code",
   "execution_count": null,
   "id": "0d3f8ae5",
   "metadata": {},
   "outputs": [],
   "source": [
    "# Mexican hat\n",
    "def f(x):\n",
    "    return -4.*x**2+16.*x**4\n",
    "# Die Ableitung des Mexican hat\n",
    "def fp(x):\n",
    "    return 2.*x-4.*x**3\n",
    "# Das Integral des Mexican hat\n",
    "def F(x):\n",
    "    return (x**3)/3. - (x**5)/5."
   ]
  },
  {
   "cell_type": "code",
   "execution_count": null,
   "id": "f18d43f8",
   "metadata": {},
   "outputs": [],
   "source": [
    "%matplotlib inline\n",
    "x = np.linspace(-.5,.5,201)\n",
    "fig, ax = plt.subplots() # let us plot the data\n",
    "ax.set_xlim([-.51, .51])\n",
    "ax.set_ylim([-.26, .01])\n",
    "ax.plot(x,f(x))\n",
    "#ax.plot(x,y)"
   ]
  },
  {
   "cell_type": "code",
   "execution_count": null,
   "id": "126ebd9f",
   "metadata": {},
   "outputs": [],
   "source": [
    "x = np.linspace(-1,1,201)"
   ]
  },
  {
   "cell_type": "code",
   "execution_count": null,
   "id": "5907b4a1",
   "metadata": {},
   "outputs": [],
   "source": [
    "%matplotlib notebook\n",
    "fig, ax = plt.subplots(2,2)\n",
    "ax[0,0].plot(x,x,label='y=x')\n",
    "ax[0,0].set_ylabel('y')\n",
    "ax[0,0].legend()\n",
    "ax[0,0].grid()\n",
    "ax[0,1].plot(x,x**2)\n",
    "ax[1,0].plot(x,x**3)\n",
    "ax[1,1].plot(x,x**4-x**2)"
   ]
  },
  {
   "cell_type": "code",
   "execution_count": null,
   "id": "647e1318",
   "metadata": {},
   "outputs": [],
   "source": [
    "%matplotlib notebook\n",
    "fig, ax = plt.subplots()\n",
    "ax.plot(x,x,label='y=x')\n",
    "ax.set_ylabel('y')\n",
    "ax.grid(ls='--')\n",
    "ax.plot(x,x**2,label='y=x**2')\n",
    "ax.plot(x,x**3,label='y=x**3')\n",
    "ax.plot(x,x**4-x**2,label='y=x**4-x**2')\n",
    "ax.legend()"
   ]
  },
  {
   "cell_type": "markdown",
   "id": "d22da98b",
   "metadata": {},
   "source": [
    "# Integration\n",
    "Integration mit numpy.trapz"
   ]
  },
  {
   "cell_type": "code",
   "execution_count": null,
   "id": "570c443e",
   "metadata": {},
   "outputs": [],
   "source": [
    "L = 1.\n",
    "n = 1\n",
    "m = 1\n",
    "x = np.linspace(-1.,1.,201)\n",
    "#plt.plot(x,cos(x,n,L))\n",
    "#plt.plot(x,cos(x,m,L))\n",
    "plt.plot(x,cos(x,n,L)*cos(x,m,L))\n",
    "#np.trapz(cos(x,n,L))"
   ]
  },
  {
   "cell_type": "code",
   "execution_count": null,
   "id": "5c3e3071",
   "metadata": {},
   "outputs": [],
   "source": [
    "L=1\n",
    "c = [np.trapz(cos(x,i,L)*f(x),dx=0.01) for i in np.arange(101)]"
   ]
  },
  {
   "cell_type": "code",
   "execution_count": null,
   "id": "74e99de3",
   "metadata": {},
   "outputs": [],
   "source": [
    "s = [np.trapz(sin(x,i,L)*f(x),dx=0.01) for i in np.arange(11)]\n",
    "y_cos = np.array([c[i]*cos(x,i,L) for i in np.arange(101)])\n",
    "y_cos[0] = y_cos[0]/2"
   ]
  },
  {
   "cell_type": "code",
   "execution_count": null,
   "id": "fd79f400",
   "metadata": {
    "lines_to_next_cell": 2
   },
   "outputs": [],
   "source": [
    "%matplotlib notebook\n",
    "fig, (ax1,ax2,ax3) = plt.subplots(3,1)\n",
    "#\n",
    "#for i in np.arange(11):\n",
    "#    ax.plot(y_cos[i])\n",
    "ax1.plot(x,f(x))\n",
    "ax2.plot(x,np.sum(y_cos,axis=0))\n",
    "ax3.plot(c)"
   ]
  },
  {
   "cell_type": "markdown",
   "id": "3e11f758",
   "metadata": {},
   "source": [
    "# Fourierreihe in 2D\n"
   ]
  },
  {
   "cell_type": "code",
   "execution_count": null,
   "id": "af439578",
   "metadata": {},
   "outputs": [],
   "source": [
    "x = np.linspace(-1.,1.,201)\n",
    "y = np.linspace(-1.,1.,201)\n",
    "X,Y = np.meshgrid(x,y)\n",
    "A = np.exp(-(X**2+Y**2))"
   ]
  },
  {
   "cell_type": "code",
   "execution_count": null,
   "id": "b22ee601",
   "metadata": {},
   "outputs": [],
   "source": [
    "%matplotlib notebook\n",
    "fig, ax = plt.subplots()\n",
    "#\n",
    "ax.imshow(A)"
   ]
  },
  {
   "cell_type": "code",
   "execution_count": null,
   "id": "c93b5e18",
   "metadata": {},
   "outputs": [],
   "source": [
    "%matplotlib notebook\n",
    "fig, (ax1,ax2,ax3) = plt.subplots(1,3)\n",
    "#\n",
    "FTA = np.fft.fft2(A)\n",
    "ax1.imshow(A.real)\n",
    "ax2.imshow(FTA.real)\n",
    "ax3.imshow(np.fft.ifft2(FTA).real)"
   ]
  },
  {
   "cell_type": "code",
   "execution_count": null,
   "id": "17d60f6c",
   "metadata": {},
   "outputs": [],
   "source": [
    "#a = np.mgrid[:5, :5][0]\n",
    "a = np.ones((7,7))\n",
    "a[2:5,2:5] = 0\n",
    "ffta = np.fft.fft2(a)\n",
    "fftashift = np.fft.fftshift(ffta)\n",
    "fftinva = np.fft.ifft2(ffta)\n",
    "fftashiftishift = np.fft.ifftshift(fftashift)"
   ]
  },
  {
   "cell_type": "code",
   "execution_count": null,
   "id": "e547430a",
   "metadata": {},
   "outputs": [],
   "source": [
    "%matplotlib notebook\n",
    "#\n",
    "fig, (ax1,ax2,ax3,ax4,ax5) = plt.subplots(1,5)\n",
    "ax1.imshow(a)\n",
    "ax2.imshow(ffta.real)\n",
    "ax3.imshow(fftashift.real)\n",
    "ax4.imshow(fftashiftishift.real)\n",
    "ax5.imshow(np.fft.ifft2(fftashiftishift).real)"
   ]
  },
  {
   "cell_type": "code",
   "execution_count": null,
   "id": "4ca1b183",
   "metadata": {},
   "outputs": [],
   "source": []
  }
 ],
 "metadata": {
  "kernelspec": {
   "display_name": "Python 3 (ipykernel)",
   "language": "python",
   "name": "python3"
  },
  "language_info": {
   "codemirror_mode": {
    "name": "ipython",
    "version": 3
   },
   "file_extension": ".py",
   "mimetype": "text/x-python",
   "name": "python",
   "nbconvert_exporter": "python",
   "pygments_lexer": "ipython3",
   "version": "3.9.15"
  }
 },
 "nbformat": 4,
 "nbformat_minor": 5
}
