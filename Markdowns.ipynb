{
 "cells": [
  {
   "cell_type": "markdown",
   "id": "a2064e75",
   "metadata": {},
   "source": [
    "# A propos Markdown Cell\n",
    "# Dies ist eine markdown cell\n",
    "## und das ist kleiner\n",
    "### noch kleiner\n",
    "#### noch viel kleiner\n",
    "##### noch viel viel kleiner\n",
    "Ab jetzt ohne hashtag\n",
    "\n",
    "**Fett**\n",
    "\n",
    "*italic*\n",
    "\n",
    "1. a\n",
    "1. b\n",
    "\n",
    "* a\n",
    "* b\n",
    "\n",
    "Dies ist eine inline Formel $e^{i\\pi}+1=0$\n",
    "\n",
    "Und hier kommt eine agesetzte Formel\n",
    "\n",
    "\\begin{equation}\n",
    "i\\hbar\\frac{\\partial\\Psi}{\\partial t}=\\hat{H}\\Psi\n",
    "\\end{equation}"
   ]
  },
  {
   "cell_type": "code",
   "execution_count": null,
   "id": "8f9ca80d",
   "metadata": {},
   "outputs": [],
   "source": []
  }
 ],
 "metadata": {
  "kernelspec": {
   "display_name": "Python 3 (ipykernel)",
   "language": "python",
   "name": "python3"
  },
  "language_info": {
   "codemirror_mode": {
    "name": "ipython",
    "version": 3
   },
   "file_extension": ".py",
   "mimetype": "text/x-python",
   "name": "python",
   "nbconvert_exporter": "python",
   "pygments_lexer": "ipython3",
   "version": "3.9.15"
  }
 },
 "nbformat": 4,
 "nbformat_minor": 5
}
