{
 "cells": [
  {
   "cell_type": "markdown",
   "id": "2b758cc9",
   "metadata": {},
   "source": [
    "# Numerische Lösung von Differentialgleichungen"
   ]
  },
  {
   "cell_type": "code",
   "execution_count": null,
   "id": "7691cfd2",
   "metadata": {},
   "outputs": [],
   "source": [
    "import numpy as np\n",
    "import matplotlib.pyplot as plt\n",
    "from scipy.integrate import solve_ivp"
   ]
  },
  {
   "cell_type": "markdown",
   "id": "41b70b01",
   "metadata": {},
   "source": [
    "## Windwiderstand\n",
    "$$\\frac{dv(t)}{dt}=-\\gamma v(t)^2$$"
   ]
  },
  {
   "cell_type": "code",
   "execution_count": null,
   "id": "82530214",
   "metadata": {},
   "outputs": [],
   "source": [
    "def f(t,v):\n",
    "    gamma = 0.1\n",
    "    dv = -gamma*v**2\n",
    "    return dv"
   ]
  },
  {
   "cell_type": "code",
   "execution_count": null,
   "id": "6a604392",
   "metadata": {},
   "outputs": [],
   "source": [
    "'''\n",
    "Wir benutzen 2 Methoden um die Differentialgleichung für die Abnahme der Geschwindigkeit \n",
    "durch den Windwiderstand zu berechnen. Einmal die Euler-Vorwärts Mehtode und zum anderen\n",
    "die scipy Biblitheksroutine solve_ivp\n",
    "'''\n",
    "#\n",
    "# Euler Vorwärts\n",
    "t0 = 0.\n",
    "t_max = 10.\n",
    "n = 101\n",
    "t = np.array([0.])\n",
    "dt = (t_max-t0)/(n-1)\n",
    "#\n",
    "v1 = np.zeros(n)\n",
    "v1[0] = 1.\n",
    "\n",
    "for i in np.arange(1,n):\n",
    "    v1[i] = v1[i-1]+f(t,v1[i-1])*dt\n",
    "    t\n",
    "#\n",
    "# Scipy Bibliotheksroutine solve_ivp\n",
    "vsc0 = [1.0]\n",
    "t_eval = np.linspace(0,(n-1)*dt,n)\n",
    "t_span = [t0,t_max]\n",
    "sol = solve_ivp(f,t_span,vsc0,t_eval=t_eval)"
   ]
  },
  {
   "cell_type": "code",
   "execution_count": null,
   "id": "dd9fc5b7",
   "metadata": {},
   "outputs": [],
   "source": [
    "%matplotlib notebook\n",
    "fig,ax = plt.subplots()\n",
    "#\n",
    "t = t_eval\n",
    "v2 = 1./(0.1*t+1.)\n",
    "v3 = sol.y[0]\n",
    "#\n",
    "ax.set_xlabel('t')\n",
    "ax.set_ylabel('v')\n",
    "ax.plot(t, v1, label = 'FD')\n",
    "ax.plot(t, v2, label = 'exact')\n",
    "ax.plot(t, v3, label = 'solve_ivp')\n",
    "ax.legend()"
   ]
  },
  {
   "cell_type": "code",
   "execution_count": null,
   "id": "62e678f7",
   "metadata": {},
   "outputs": [],
   "source": []
  }
 ],
 "metadata": {
  "kernelspec": {
   "display_name": "Python 3 (ipykernel)",
   "language": "python",
   "name": "python3"
  },
  "language_info": {
   "codemirror_mode": {
    "name": "ipython",
    "version": 3
   },
   "file_extension": ".py",
   "mimetype": "text/x-python",
   "name": "python",
   "nbconvert_exporter": "python",
   "pygments_lexer": "ipython3",
   "version": "3.11.2"
  }
 },
 "nbformat": 4,
 "nbformat_minor": 5
}
